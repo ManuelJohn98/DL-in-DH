{
 "cells": [
  {
   "cell_type": "code",
   "execution_count": 1,
   "metadata": {
    "collapsed": true
   },
   "outputs": [
    {
     "name": "stderr",
     "output_type": "stream",
     "text": [
      "Special tokens have been added in the vocabulary, make sure the associated word embeddings are fine-tuned or trained.\n"
     ]
    }
   ],
   "source": [
    "from transformers import pipeline\n",
    "pipe = pipeline('text-generation', model=\"Theater-Model-final\", tokenizer=\"dbmdz/german-gpt2\")"
   ]
  },
  {
   "cell_type": "code",
   "execution_count": 17,
   "outputs": [
    {
     "name": "stderr",
     "output_type": "stream",
     "text": [
      "Setting `pad_token_id` to `eos_token_id`:50256 for open-end generation.\n"
     ]
    },
    {
     "name": "stdout",
     "output_type": "stream",
     "text": [
      "<s>FEMALE: Sehr gut so, dann wird's besser.MALE: Er tritt hinter mich, da kommt eine Frau herein, er umarmt sie, und der Kleine öffnet ihr das Maul.FEMALE: Mit den langen Ärmeln wirft er den Mund zum Himmel.MALE: Herr Pfarrer, das ist ein sehr schöner Morgen auf der Burg, und Sie haben vielleicht den jungen Mann dort nicht gesehen, der da ganz allein, ohne Begleitung am Abend nach der\n"
     ]
    }
   ],
   "source": [
    "text = pipe(\"<s>\", max_length=100)[0][\"generated_text\"]\n",
    "print(text)"
   ],
   "metadata": {
    "collapsed": false
   }
  },
  {
   "cell_type": "markdown",
   "source": [
    "### See huggingface documentation about TextGenerationPipeline:\n",
    "[TextGenerationPipeline](https://huggingface.co/docs/transformers/v4.26.0/en/main_classes/pipelines#transformers.TextGenerationPipeline)"
   ],
   "metadata": {
    "collapsed": false
   }
  }
 ],
 "metadata": {
  "kernelspec": {
   "display_name": "Python 3",
   "language": "python",
   "name": "python3"
  },
  "language_info": {
   "codemirror_mode": {
    "name": "ipython",
    "version": 2
   },
   "file_extension": ".py",
   "mimetype": "text/x-python",
   "name": "python",
   "nbconvert_exporter": "python",
   "pygments_lexer": "ipython2",
   "version": "2.7.6"
  }
 },
 "nbformat": 4,
 "nbformat_minor": 0
}
