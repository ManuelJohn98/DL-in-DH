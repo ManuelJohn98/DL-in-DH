{
 "cells": [
  {
   "cell_type": "markdown",
   "metadata": {},
   "source": [
    "# Data Collection and Preprocessing\n",
    "This notebook contains the code for collecting and preprocessing training data from German theater plays using the [German Drama Corpus](https://dracor.org/)."
   ]
  },
  {
   "cell_type": "code",
   "execution_count": 2,
   "metadata": {},
   "outputs": [],
   "source": [
    "import json\n",
    "import pandas as pd\n",
    "from urllib import request\n",
    "from tqdm.notebook import tqdm\n",
    "from bs4 import BeautifulSoup\n",
    "\n",
    "dracor_api = 'https://dracor.org/api'"
   ]
  },
  {
   "cell_type": "markdown",
   "metadata": {},
   "source": [
    "The following methods are provided by DraCor to access their API."
   ]
  },
  {
   "cell_type": "code",
   "execution_count": 3,
   "metadata": {},
   "outputs": [],
   "source": [
    "def get_dracor(corpus, play=None):\n",
    "    \"\"\"Lädt entweder Metadaten zum Korpus oder den Text des Stücks.\"\"\"\n",
    "    url = dracor_api + \"/corpora/\" + corpus\n",
    "    if play is not None:\n",
    "        url = url + \"/play/\" + play + \"/tei\"\n",
    "    with request.urlopen(url) as req:\n",
    "        text = req.read().decode()\n",
    "        if play is None:\n",
    "            return json.loads(text)\n",
    "        return text\n",
    "\n",
    "\n",
    "def get_data(corpus):\n",
    "    \"\"\"Alle Stücke eines Korpus herunterladen.\"\"\"\n",
    "    texts = []\n",
    "    target = []\n",
    "    playnames = []\n",
    "    for drama in tqdm(get_dracor(corpus)[\"dramas\"]):\n",
    "        name = drama[\"name\"]\n",
    "        authors = drama[\"authors\"]\n",
    "        texts.append(get_dracor(corpus, name))\n",
    "        target.append(authors)\n",
    "        playnames.append(name)\n",
    "    return texts, playnames, target"
   ]
  },
  {
   "cell_type": "code",
   "execution_count": 4,
   "metadata": {
    "scrolled": true
   },
   "outputs": [
    {
     "data": {
      "application/vnd.jupyter.widget-view+json": {
       "model_id": "62bc08058315468d9e6b075154b7b9cb",
       "version_major": 2,
       "version_minor": 0
      },
      "text/plain": [
       "  0%|          | 0/598 [00:00<?, ?it/s]"
      ]
     },
     "metadata": {},
     "output_type": "display_data"
    }
   ],
   "source": [
    "texts, names, target = get_data(\"ger\")"
   ]
  },
  {
   "cell_type": "code",
   "execution_count": 79,
   "metadata": {},
   "outputs": [],
   "source": [
    "def extract_dialogue(soup_play, play_id):\n",
    "    \"\"\"\n",
    "    Parameters\n",
    "    __________\n",
    "    soup_play : bs4.BeautifulSoup\n",
    "        A BeautifulSoup representation of a play\n",
    "    play_id : int\n",
    "        Index of the play\n",
    "    \n",
    "    Returns\n",
    "    _______\n",
    "    play_dialogue : list[list[dict]]\n",
    "        A list of scenes, each containing ordered dialogue\n",
    "        with information about the speakers (ids).\n",
    "        The ids correspond to a number assigned\n",
    "        to the speaker within the scene.\n",
    "    \"\"\"\n",
    "    play_dialogue = []\n",
    "    \n",
    "    play_year = 0\n",
    "    soup_play_year = soup_play.find('event', {'type': 'print'})\n",
    "    if soup_play_year:\n",
    "        play_year = int(soup_play.find('event', {'type': 'print'})['when'])\n",
    "    \n",
    "    soup_scenes = soup_play.find_all('div', {'type': 'scene'})\n",
    "    character2gender = {}\n",
    "    soup_character_list = soup_play.find_all('person')\n",
    "    \n",
    "    for character in soup_character_list:\n",
    "        character2gender[character['xml:id']] = character['sex']\n",
    "    for scene_i, scene in enumerate(soup_scenes):\n",
    "        character_id = -1\n",
    "        character_id_dict = {}\n",
    "        scene_dialogue = []\n",
    "        soup_sp_list = scene.find_all('sp')\n",
    "        for sp in soup_sp_list:\n",
    "            if 'who' not in sp.attrs:\n",
    "                break\n",
    "            character_name = sp['who']\n",
    "            \n",
    "            if character_name not in character_id_dict:\n",
    "                character_id += 1\n",
    "                character_id_dict[character_name] = character_id\n",
    "            speaker = sp.find('speaker')\n",
    "            \n",
    "            if speaker:\n",
    "                speaker.extract()\n",
    "                \n",
    "            if character_name[1:] in character2gender:\n",
    "                character_gender = character2gender[character_name[1:]]\n",
    "            else:\n",
    "                character_gender = 'UNKNOWN'\n",
    "            scene_dialogue.append(\n",
    "                {\n",
    "                    'text': sp.text.strip().replace('\\n', ' '),\n",
    "                    'character_id': character_id_dict[character_name],\n",
    "                    'character_gender': character_gender,\n",
    "                    'scene_id': scene_i,\n",
    "                    'date': play_year,\n",
    "                    'play_id': play_id\n",
    "                }\n",
    "            )\n",
    "        play_dialogue.append(scene_dialogue)\n",
    "    return play_dialogue"
   ]
  },
  {
   "cell_type": "code",
   "execution_count": 80,
   "metadata": {},
   "outputs": [
    {
     "data": {
      "application/vnd.jupyter.widget-view+json": {
       "model_id": "eb63da2113704ebda2068557937333d0",
       "version_major": 2,
       "version_minor": 0
      },
      "text/plain": [
       "  0%|          | 0/598 [00:00<?, ?it/s]"
      ]
     },
     "metadata": {},
     "output_type": "display_data"
    }
   ],
   "source": [
    "play_dialogues = []\n",
    "for i, text in enumerate(tqdm(texts)):\n",
    "    soup_play = BeautifulSoup(text, 'lxml')\n",
    "    play_dialogues.append(extract_dialogue(soup_play, i))"
   ]
  },
  {
   "cell_type": "code",
   "execution_count": 81,
   "metadata": {},
   "outputs": [
    {
     "data": {
      "application/vnd.jupyter.widget-view+json": {
       "model_id": "65f01359e8024e8b99edecf0d014419d",
       "version_major": 2,
       "version_minor": 0
      },
      "text/plain": [
       "  0%|          | 0/598 [00:00<?, ?it/s]"
      ]
     },
     "metadata": {},
     "output_type": "display_data"
    }
   ],
   "source": [
    "scene_df = pd.DataFrame({\n",
    "                            'text': [],\n",
    "                            'character_id': [],\n",
    "                            'character_gender': [],\n",
    "                            'scene_id': [],\n",
    "                            'date': [],\n",
    "                            'play_id': []\n",
    "                        })\n",
    "for play in tqdm(play_dialogues):\n",
    "    for scene in play:\n",
    "        scene_df = pd.concat([scene_df, pd.DataFrame(scene)], ignore_index=True)"
   ]
  },
  {
   "cell_type": "code",
   "execution_count": 83,
   "metadata": {},
   "outputs": [],
   "source": [
    "scene_df.date = scene_df.date.astype(int)\n",
    "scene_df.scene_id = scene_df.scene_id.astype(int)\n",
    "scene_df.play_id = scene_df.play_id.astype(int)\n",
    "scene_df.character_id = scene_df.character_id.astype(int)"
   ]
  },
  {
   "cell_type": "code",
   "execution_count": 84,
   "metadata": {},
   "outputs": [
    {
     "data": {
      "text/html": [
       "<div>\n",
       "<style scoped>\n",
       "    .dataframe tbody tr th:only-of-type {\n",
       "        vertical-align: middle;\n",
       "    }\n",
       "\n",
       "    .dataframe tbody tr th {\n",
       "        vertical-align: top;\n",
       "    }\n",
       "\n",
       "    .dataframe thead th {\n",
       "        text-align: right;\n",
       "    }\n",
       "</style>\n",
       "<table border=\"1\" class=\"dataframe\">\n",
       "  <thead>\n",
       "    <tr style=\"text-align: right;\">\n",
       "      <th></th>\n",
       "      <th>text</th>\n",
       "      <th>character_id</th>\n",
       "      <th>character_gender</th>\n",
       "      <th>scene_id</th>\n",
       "      <th>date</th>\n",
       "      <th>play_id</th>\n",
       "    </tr>\n",
       "  </thead>\n",
       "  <tbody>\n",
       "    <tr>\n",
       "      <th>0</th>\n",
       "      <td>Mir gehts verteufelt! – Bruder! die Schuldner ...</td>\n",
       "      <td>0</td>\n",
       "      <td>MALE</td>\n",
       "      <td>0</td>\n",
       "      <td>1779</td>\n",
       "      <td>0</td>\n",
       "    </tr>\n",
       "    <tr>\n",
       "      <th>1</th>\n",
       "      <td>Ja! Herr Bruder! wenn soll ich sie wieder habe...</td>\n",
       "      <td>1</td>\n",
       "      <td>MALE</td>\n",
       "      <td>0</td>\n",
       "      <td>1779</td>\n",
       "      <td>0</td>\n",
       "    </tr>\n",
       "    <tr>\n",
       "      <th>2</th>\n",
       "      <td>O! Behalt deine paar lumpen Ducaten! Ich will ...</td>\n",
       "      <td>0</td>\n",
       "      <td>MALE</td>\n",
       "      <td>0</td>\n",
       "      <td>1779</td>\n",
       "      <td>0</td>\n",
       "    </tr>\n",
       "    <tr>\n",
       "      <th>3</th>\n",
       "      <td>Nu! Nu! S'is ja mein Ernst noch nicht. Hier si...</td>\n",
       "      <td>1</td>\n",
       "      <td>MALE</td>\n",
       "      <td>0</td>\n",
       "      <td>1779</td>\n",
       "      <td>0</td>\n",
       "    </tr>\n",
       "    <tr>\n",
       "      <th>4</th>\n",
       "      <td>Hast du keinen Schnaps? Ich habe, hohl mich de...</td>\n",
       "      <td>0</td>\n",
       "      <td>MALE</td>\n",
       "      <td>0</td>\n",
       "      <td>1779</td>\n",
       "      <td>0</td>\n",
       "    </tr>\n",
       "  </tbody>\n",
       "</table>\n",
       "</div>"
      ],
      "text/plain": [
       "                                                text  character_id  \\\n",
       "0  Mir gehts verteufelt! – Bruder! die Schuldner ...             0   \n",
       "1  Ja! Herr Bruder! wenn soll ich sie wieder habe...             1   \n",
       "2  O! Behalt deine paar lumpen Ducaten! Ich will ...             0   \n",
       "3  Nu! Nu! S'is ja mein Ernst noch nicht. Hier si...             1   \n",
       "4  Hast du keinen Schnaps? Ich habe, hohl mich de...             0   \n",
       "\n",
       "  character_gender  scene_id  date  play_id  \n",
       "0             MALE         0  1779        0  \n",
       "1             MALE         0  1779        0  \n",
       "2             MALE         0  1779        0  \n",
       "3             MALE         0  1779        0  \n",
       "4             MALE         0  1779        0  "
      ]
     },
     "execution_count": 84,
     "metadata": {},
     "output_type": "execute_result"
    }
   ],
   "source": [
    "scene_df.head()"
   ]
  },
  {
   "cell_type": "code",
   "execution_count": 85,
   "metadata": {},
   "outputs": [
    {
     "data": {
      "text/html": [
       "<div>\n",
       "<style scoped>\n",
       "    .dataframe tbody tr th:only-of-type {\n",
       "        vertical-align: middle;\n",
       "    }\n",
       "\n",
       "    .dataframe tbody tr th {\n",
       "        vertical-align: top;\n",
       "    }\n",
       "\n",
       "    .dataframe thead th {\n",
       "        text-align: right;\n",
       "    }\n",
       "</style>\n",
       "<table border=\"1\" class=\"dataframe\">\n",
       "  <thead>\n",
       "    <tr style=\"text-align: right;\">\n",
       "      <th></th>\n",
       "      <th>text</th>\n",
       "      <th>character_id</th>\n",
       "      <th>character_gender</th>\n",
       "      <th>scene_id</th>\n",
       "      <th>date</th>\n",
       "      <th>play_id</th>\n",
       "    </tr>\n",
       "  </thead>\n",
       "  <tbody>\n",
       "    <tr>\n",
       "      <th>309054</th>\n",
       "      <td>(komisch ernsthaft) Deine That wird einst von ...</td>\n",
       "      <td>1</td>\n",
       "      <td>MALE</td>\n",
       "      <td>9</td>\n",
       "      <td>1819</td>\n",
       "      <td>597</td>\n",
       "    </tr>\n",
       "    <tr>\n",
       "      <th>309055</th>\n",
       "      <td>Aber ich hoffe, von den aus der Klemme Geholfe...</td>\n",
       "      <td>2</td>\n",
       "      <td>MALE</td>\n",
       "      <td>9</td>\n",
       "      <td>1819</td>\n",
       "      <td>597</td>\n",
       "    </tr>\n",
       "    <tr>\n",
       "      <th>309056</th>\n",
       "      <td>Nein, sicher nicht. Nun, Wilhelm, sind wir wie...</td>\n",
       "      <td>0</td>\n",
       "      <td>MALE</td>\n",
       "      <td>9</td>\n",
       "      <td>1819</td>\n",
       "      <td>597</td>\n",
       "    </tr>\n",
       "    <tr>\n",
       "      <th>309057</th>\n",
       "      <td>Ja, das wollen wir; komm, Brüderchen; Pfiff, r...</td>\n",
       "      <td>1</td>\n",
       "      <td>MALE</td>\n",
       "      <td>9</td>\n",
       "      <td>1819</td>\n",
       "      <td>597</td>\n",
       "    </tr>\n",
       "    <tr>\n",
       "      <th>309058</th>\n",
       "      <td>Da gehen Sie hin, und was bleibt mir? I, nun, ...</td>\n",
       "      <td>2</td>\n",
       "      <td>MALE</td>\n",
       "      <td>9</td>\n",
       "      <td>1819</td>\n",
       "      <td>597</td>\n",
       "    </tr>\n",
       "  </tbody>\n",
       "</table>\n",
       "</div>"
      ],
      "text/plain": [
       "                                                     text  character_id  \\\n",
       "309054  (komisch ernsthaft) Deine That wird einst von ...             1   \n",
       "309055  Aber ich hoffe, von den aus der Klemme Geholfe...             2   \n",
       "309056  Nein, sicher nicht. Nun, Wilhelm, sind wir wie...             0   \n",
       "309057  Ja, das wollen wir; komm, Brüderchen; Pfiff, r...             1   \n",
       "309058  Da gehen Sie hin, und was bleibt mir? I, nun, ...             2   \n",
       "\n",
       "       character_gender  scene_id  date  play_id  \n",
       "309054             MALE         9  1819      597  \n",
       "309055             MALE         9  1819      597  \n",
       "309056             MALE         9  1819      597  \n",
       "309057             MALE         9  1819      597  \n",
       "309058             MALE         9  1819      597  "
      ]
     },
     "execution_count": 85,
     "metadata": {},
     "output_type": "execute_result"
    }
   ],
   "source": [
    "scene_df.tail()"
   ]
  },
  {
   "cell_type": "markdown",
   "metadata": {},
   "source": [
    "TQDM estimates this script to run for several hours, so as of know, I haven't found the time to run it, and I am not sure if it's that necessary and if we perhaps just need the dataframe above."
   ]
  },
  {
   "cell_type": "code",
   "execution_count": null,
   "metadata": {},
   "outputs": [],
   "source": [
    "scene_df_first_row = scene_df.values[0]\n",
    "\n",
    "dialogue_df = pd.DataFrame({\n",
    "    'play_id': [scene_df_first_row[5]],\n",
    "    'play_date': [scene_df_first_row[4]],\n",
    "    'speaker1': [scene_df_first_row[0]],\n",
    "    'speaker2': [scene_df.values[1][0]],\n",
    "    'gender1': [scene_df_first_row[2]],\n",
    "    'gender2': [scene_df.values[1][2]]\n",
    "})\n",
    "\n",
    "play_id = scene_df_first_row[5]\n",
    "scene_id = scene_df_first_row[3]\n",
    "\n",
    "cutoff_scene_df_values = scene_df.values[1:]\n",
    "for i, row in enumerate(tqdm(cutoff_scene_df_values)):\n",
    "    if i != len(cutoff_scene_df_values) - 1:\n",
    "        next_row = cutoff_scene_df_values[i+1]\n",
    "        if next_row[3] != row[3]:\n",
    "            continue\n",
    "        row_df = pd.DataFrame(\n",
    "            {\n",
    "                'play_id': [row[5]],\n",
    "                'play_date': [row[4]],\n",
    "                'speaker1': [row[0]],\n",
    "                'speaker2': [next_row[0]],\n",
    "                'gender1': [row[2]],\n",
    "                'gender2': [next_row[2]]\n",
    "            }\n",
    "        )\n",
    "        dialogue_df = pd.concat([dialogue_df, row_df])"
   ]
  },
  {
   "cell_type": "markdown",
   "metadata": {},
   "source": [
    "It did run for a bit and here's what it produced:"
   ]
  },
  {
   "cell_type": "code",
   "execution_count": 76,
   "metadata": {},
   "outputs": [
    {
     "data": {
      "text/html": [
       "<div>\n",
       "<style scoped>\n",
       "    .dataframe tbody tr th:only-of-type {\n",
       "        vertical-align: middle;\n",
       "    }\n",
       "\n",
       "    .dataframe tbody tr th {\n",
       "        vertical-align: top;\n",
       "    }\n",
       "\n",
       "    .dataframe thead th {\n",
       "        text-align: right;\n",
       "    }\n",
       "</style>\n",
       "<table border=\"1\" class=\"dataframe\">\n",
       "  <thead>\n",
       "    <tr style=\"text-align: right;\">\n",
       "      <th></th>\n",
       "      <th>play_id</th>\n",
       "      <th>play_date</th>\n",
       "      <th>speaker1</th>\n",
       "      <th>speaker2</th>\n",
       "      <th>gender1</th>\n",
       "      <th>gender2</th>\n",
       "    </tr>\n",
       "  </thead>\n",
       "  <tbody>\n",
       "    <tr>\n",
       "      <th>0</th>\n",
       "      <td>0.0</td>\n",
       "      <td>1779.0</td>\n",
       "      <td>Mir gehts verteufelt! – Bruder! die Schuldner ...</td>\n",
       "      <td>Ja! Herr Bruder! wenn soll ich sie wieder habe...</td>\n",
       "      <td>MALE</td>\n",
       "      <td>MALE</td>\n",
       "    </tr>\n",
       "    <tr>\n",
       "      <th>0</th>\n",
       "      <td>0.0</td>\n",
       "      <td>1779.0</td>\n",
       "      <td>Ja! Herr Bruder! wenn soll ich sie wieder habe...</td>\n",
       "      <td>O! Behalt deine paar lumpen Ducaten! Ich will ...</td>\n",
       "      <td>MALE</td>\n",
       "      <td>MALE</td>\n",
       "    </tr>\n",
       "    <tr>\n",
       "      <th>0</th>\n",
       "      <td>0.0</td>\n",
       "      <td>1779.0</td>\n",
       "      <td>O! Behalt deine paar lumpen Ducaten! Ich will ...</td>\n",
       "      <td>Nu! Nu! S'is ja mein Ernst noch nicht. Hier si...</td>\n",
       "      <td>MALE</td>\n",
       "      <td>MALE</td>\n",
       "    </tr>\n",
       "    <tr>\n",
       "      <th>0</th>\n",
       "      <td>0.0</td>\n",
       "      <td>1779.0</td>\n",
       "      <td>Nu! Nu! S'is ja mein Ernst noch nicht. Hier si...</td>\n",
       "      <td>Hast du keinen Schnaps? Ich habe, hohl mich de...</td>\n",
       "      <td>MALE</td>\n",
       "      <td>MALE</td>\n",
       "    </tr>\n",
       "    <tr>\n",
       "      <th>0</th>\n",
       "      <td>0.0</td>\n",
       "      <td>1779.0</td>\n",
       "      <td>Hast du keinen Schnaps? Ich habe, hohl mich de...</td>\n",
       "      <td>Weg mit deinem Schnaps. Ich trinke keinen. Geh...</td>\n",
       "      <td>MALE</td>\n",
       "      <td>MALE</td>\n",
       "    </tr>\n",
       "    <tr>\n",
       "      <th>...</th>\n",
       "      <td>...</td>\n",
       "      <td>...</td>\n",
       "      <td>...</td>\n",
       "      <td>...</td>\n",
       "      <td>...</td>\n",
       "      <td>...</td>\n",
       "    </tr>\n",
       "    <tr>\n",
       "      <th>0</th>\n",
       "      <td>0.0</td>\n",
       "      <td>1779.0</td>\n",
       "      <td>Ach! meine ganze Seel ist erschüttert! Das gre...</td>\n",
       "      <td>(Weint.)\\nAch! Es greift dich zu sehr an! Scho...</td>\n",
       "      <td>MALE</td>\n",
       "      <td>MALE</td>\n",
       "    </tr>\n",
       "    <tr>\n",
       "      <th>0</th>\n",
       "      <td>0.0</td>\n",
       "      <td>1779.0</td>\n",
       "      <td>(Weint.)\\nAch! Es greift dich zu sehr an! Scho...</td>\n",
       "      <td>Ich fühle es schon! O Tod! du sanfter Friedens...</td>\n",
       "      <td>MALE</td>\n",
       "      <td>MALE</td>\n",
       "    </tr>\n",
       "    <tr>\n",
       "      <th>0</th>\n",
       "      <td>0.0</td>\n",
       "      <td>1779.0</td>\n",
       "      <td>Ich fühle es schon! O Tod! du sanfter Friedens...</td>\n",
       "      <td>Da liegt er! der entseelte Körper! seiner besc...</td>\n",
       "      <td>MALE</td>\n",
       "      <td>MALE</td>\n",
       "    </tr>\n",
       "    <tr>\n",
       "      <th>0</th>\n",
       "      <td>1.0</td>\n",
       "      <td>1919.0</td>\n",
       "      <td>(Frau, Mitte dreißig, korpulent. Staubtuch und...</td>\n",
       "      <td>(Fünfzigjährig, mager, nervös. Trägt einen Sto...</td>\n",
       "      <td>FEMALE</td>\n",
       "      <td>MALE</td>\n",
       "    </tr>\n",
       "    <tr>\n",
       "      <th>0</th>\n",
       "      <td>1.0</td>\n",
       "      <td>1919.0</td>\n",
       "      <td>(Fünfzigjährig, mager, nervös. Trägt einen Sto...</td>\n",
       "      <td>Aber i bitt Ihner – über dö Wohnung is do' fak...</td>\n",
       "      <td>MALE</td>\n",
       "      <td>FEMALE</td>\n",
       "    </tr>\n",
       "  </tbody>\n",
       "</table>\n",
       "<p>168 rows × 6 columns</p>\n",
       "</div>"
      ],
      "text/plain": [
       "    play_id  play_date                                           speaker1  \\\n",
       "0       0.0     1779.0  Mir gehts verteufelt! – Bruder! die Schuldner ...   \n",
       "0       0.0     1779.0  Ja! Herr Bruder! wenn soll ich sie wieder habe...   \n",
       "0       0.0     1779.0  O! Behalt deine paar lumpen Ducaten! Ich will ...   \n",
       "0       0.0     1779.0  Nu! Nu! S'is ja mein Ernst noch nicht. Hier si...   \n",
       "0       0.0     1779.0  Hast du keinen Schnaps? Ich habe, hohl mich de...   \n",
       "..      ...        ...                                                ...   \n",
       "0       0.0     1779.0  Ach! meine ganze Seel ist erschüttert! Das gre...   \n",
       "0       0.0     1779.0  (Weint.)\\nAch! Es greift dich zu sehr an! Scho...   \n",
       "0       0.0     1779.0  Ich fühle es schon! O Tod! du sanfter Friedens...   \n",
       "0       1.0     1919.0  (Frau, Mitte dreißig, korpulent. Staubtuch und...   \n",
       "0       1.0     1919.0  (Fünfzigjährig, mager, nervös. Trägt einen Sto...   \n",
       "\n",
       "                                             speaker2 gender1 gender2  \n",
       "0   Ja! Herr Bruder! wenn soll ich sie wieder habe...    MALE    MALE  \n",
       "0   O! Behalt deine paar lumpen Ducaten! Ich will ...    MALE    MALE  \n",
       "0   Nu! Nu! S'is ja mein Ernst noch nicht. Hier si...    MALE    MALE  \n",
       "0   Hast du keinen Schnaps? Ich habe, hohl mich de...    MALE    MALE  \n",
       "0   Weg mit deinem Schnaps. Ich trinke keinen. Geh...    MALE    MALE  \n",
       "..                                                ...     ...     ...  \n",
       "0   (Weint.)\\nAch! Es greift dich zu sehr an! Scho...    MALE    MALE  \n",
       "0   Ich fühle es schon! O Tod! du sanfter Friedens...    MALE    MALE  \n",
       "0   Da liegt er! der entseelte Körper! seiner besc...    MALE    MALE  \n",
       "0   (Fünfzigjährig, mager, nervös. Trägt einen Sto...  FEMALE    MALE  \n",
       "0   Aber i bitt Ihner – über dö Wohnung is do' fak...    MALE  FEMALE  \n",
       "\n",
       "[168 rows x 6 columns]"
      ]
     },
     "execution_count": 76,
     "metadata": {},
     "output_type": "execute_result"
    }
   ],
   "source": [
    "dialogue_df.head()"
   ]
  },
  {
   "cell_type": "markdown",
   "metadata": {},
   "source": [
    "Let's just save what we have for now:"
   ]
  },
  {
   "cell_type": "code",
   "execution_count": 86,
   "metadata": {},
   "outputs": [],
   "source": [
    "scene_df.to_csv('data/data.tsv', sep='\\t')"
   ]
  }
 ],
 "metadata": {
  "kernelspec": {
   "display_name": "Python 3 (ipykernel)",
   "language": "python",
   "name": "python3"
  },
  "language_info": {
   "codemirror_mode": {
    "name": "ipython",
    "version": 3
   },
   "file_extension": ".py",
   "mimetype": "text/x-python",
   "name": "python",
   "nbconvert_exporter": "python",
   "pygments_lexer": "ipython3",
   "version": "3.7.6"
  },
  "vscode": {
   "interpreter": {
    "hash": "40d3a090f54c6569ab1632332b64b2c03c39dcf918b08424e98f38b5ae0af88f"
   }
  }
 },
 "nbformat": 4,
 "nbformat_minor": 4
}
